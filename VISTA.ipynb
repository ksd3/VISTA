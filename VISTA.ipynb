{
 "cells": [
  {
   "cell_type": "code",
   "execution_count": 1,
   "id": "e85d2904-8aed-42f8-abef-4096ea228dc5",
   "metadata": {},
   "outputs": [],
   "source": [
    "#this function checks for convenience in the VISTA algorithm\n",
    "def Frob(Uold,Dsqold,Vold,U,Dsq,V): #the previous and latest results of the singular value decomposition\n",
    "    denom=np.sum(Dsqold**2) #since this is a line vector, this is fairly straightforward\n",
    "    utu=replicate_r_lazy_mult_left(Dsq,(U.T @ Uold)) #this just looks like row-wise multiplication...replicated\n",
    "    vtv=replicate_r_lazy_mult_left(Dsq,(V.T @ Vold))\n",
    "    uvprod=np.sum(np.diag(utu @ vtv))\n",
    "    num=denom+np.sum(Dsq**2)-2*uvprod\n",
    "    num=num/np.max(np.array([denom,1e-9]))\n",
    "    return num"
   ]
  },
  {
   "cell_type": "code",
   "execution_count": 2,
   "id": "688777e6-d76c-4783-9fd5-0bef773b9724",
   "metadata": {},
   "outputs": [],
   "source": [
    "def replicate_r_lazy_mult_left(a,b): #this function replicates R's unique style of multiplication\n",
    "    #a must be a 1-D vector, b must be a 2-D matrix\n",
    "    #print(a)\n",
    "    #print(b)\n",
    "    temp1=np.ravel(b,order='F') #unwrap the matrix\n",
    "    temp2=np.ravel(np.array([a]*int(np.ceil(len(temp1)/len(a)))))\n",
    "    difference=len(np.ravel(np.array([a]*int(np.ceil(len(temp1)/len(a))))))-len(temp1)\n",
    "    if difference>=1:\n",
    "        temp2=temp2[:-(len(temp2)-len(temp1))]\n",
    "    answer=np.reshape(np.multiply(temp1,temp2),b.shape,order='F')\n",
    "    return answer\n",
    "    #answer=b[:,0] #this keeps one column in\n",
    "    #for i in range(b.shape[1]): #this takes the number of columns of b\n",
    "        #print(i)\n",
    "    #    temp=np.diag(np.outer(a,b[:,i]))\n",
    "    #    answer=np.c_[answer,temp] #thanks, stackoverflow!\n",
    "    #answer=answer[:,1:]\n",
    "    #return answer"
   ]
  },
  {
   "cell_type": "code",
   "execution_count": 3,
   "id": "332796a5-8fcf-4c7b-aba9-cce4c8c9b491",
   "metadata": {},
   "outputs": [],
   "source": [
    "def replicate_r_lazy_mult_right(b,a): #i hate r\n",
    "    #b must be a matrix, a must be a 1-D vector\n",
    "    temp1=np.ravel(b,order='F') #unwrap the matrix\n",
    "    temp2=np.ravel(np.array([a]*int(np.ceil(len(temp1)/len(a))))) #replicate the 1d array\n",
    "    difference=len(np.ravel(np.array([a]*int(np.ceil(len(temp1)/len(a))))))-len(temp1)\n",
    "    if difference>=1:\n",
    "        temp2=temp2[:-(len(temp2)-len(temp1))]\n",
    "    answer=np.reshape(np.multiply(temp1,temp2),b.shape,order='F')\n",
    "    return answer"
   ]
  },
  {
   "cell_type": "code",
   "execution_count": 4,
   "id": "70c8d709-d67a-4da8-9c25-7fb7b984fb91",
   "metadata": {},
   "outputs": [],
   "source": [
    "def replicate_lazy_r_division(b,a): #i hate r\n",
    "    #b must be a matrix, a must be a 1-D vector\n",
    "    temp1=np.ravel(b,order='F') #unwrap the matrix\n",
    "    temp2=np.ravel(np.array([a]*int(np.ceil(len(temp1)/len(a))))) #replicate the 1d array\n",
    "    difference=len(np.ravel(np.array([a]*int(np.ceil(len(temp1)/len(a))))))-len(temp1)\n",
    "    if difference>=1:\n",
    "        temp2=temp2[-(len(temp2)-len(temp1)):]\n",
    "    answer=np.reshape(np.divide(temp1,temp2),b.shape,order='F')\n",
    "    return answer"
   ]
  },
  {
   "cell_type": "code",
   "execution_count": 5,
   "id": "9b1dda3e-fd60-408f-ba3e-e3de636e90c6",
   "metadata": {},
   "outputs": [],
   "source": [
    "def replicate_r_pmax(a,b):\n",
    "    #a and b must be 1-D and of the same size\n",
    "    c=[]\n",
    "    for i in range(len(a)):\n",
    "        if a[i]>=b[i]:\n",
    "            c.append(a[i])\n",
    "        else:\n",
    "            c.append(b[i])\n",
    "            \n",
    "    return np.array(c)"
   ]
  },
  {
   "cell_type": "code",
   "execution_count": 6,
   "id": "b265ff13-970a-4515-8ca2-a77d71e27530",
   "metadata": {},
   "outputs": [],
   "source": [
    "def normalize_data(TEC,SH):\n",
    "    #TEC is your m x n x t matrix\n",
    "    TEC=((TEC**0.1) - 1)/0.1 #box-cox transform\n",
    "    all_mean=np.mean(TEC[~np.isnan(TEC)])\n",
    "    all_sd=(np.std(TEC[~np.isnan(TEC)]))\n",
    "    TEC=(TEC-all_mean)/all_sd\n",
    "    SH=(SH**0.1-1)/0.1\n",
    "    SH=(SH-all_mean)/all_sd\n",
    "    return TEC,SH"
   ]
  },
  {
   "cell_type": "code",
   "execution_count": 7,
   "id": "52c33817-4c06-4445-ae17-3446a52289d6",
   "metadata": {},
   "outputs": [],
   "source": [
    "def unnormalize_data(impute):\n",
    "    #this unnormalizes the data\n",
    "    imputed_map=[]\n",
    "    for i in range(impute[2]):\n",
    "        imputed_i=impute[i]\n",
    "        imputed_i=imputed_i*all_sd+all_mean #reverse the standardization\n",
    "        imputed_i=(0.1*imputed_i+1)**10 #reverse box-cos\n",
    "        imputed_map.append(imputed_i)\n",
    "    return imputed_map"
   ]
  },
  {
   "cell_type": "code",
   "execution_count": 8,
   "id": "401d81fb-8653-48b1-adcb-879ec07450c2",
   "metadata": {},
   "outputs": [],
   "source": [
    "def VISTA(x,SH,l1,l2,l3,r,thresh,maxit,penalty):\n",
    "    #x and SH are m x n x t matrices - m latitudes, n longitudes, t timesteps\n",
    "    #must be numpy ndarrays\n",
    "    #x must have NaN values where there are no observations\n",
    "    #SH must not have ANY NaN values\n",
    "    m,n,t=x.shape\n",
    "    xnas=np.isnan(x) #find out where NaNs are located\n",
    "    xfill=x #copy x over\n",
    "\n",
    "    #declare holders\n",
    "    U=[]\n",
    "    V=[]\n",
    "    Dsq=[]\n",
    "    Impute=[]\n",
    "\n",
    "    #initialize U,V,Dsq\n",
    "    for time in range(t):\n",
    "        u=np.random.randn(m,r)\n",
    "        v=np.random.randn(n,r)\n",
    "        temp1,temp2,temp3=np.linalg.svd(u,False) #this is not exactly the same as the R implementation, so more steps are taken here\n",
    "        temp4,temp5,temp6=np.linalg.svd(v,False)\n",
    "        U.append(temp1) #could be -temp1 and -temp3, but R gives inconsistent results, so I'm going with non-negatives\n",
    "        V.append(temp4)\n",
    "        Dsq.append(np.ones(r))\n",
    "        Impute.append(U[time]@replicate_r_lazy_mult_left(np.ones(r),V[time].T))\n",
    "\n",
    "    #hopefully that works\n",
    "    #moving on\n",
    "    xfill[xnas]=0 #replace the NaNs with 0\n",
    "    ratio=np.ones(t)\n",
    "    ratio_hist=[]\n",
    "    iter=1\n",
    "    loss_hist=[]\n",
    "\n",
    "    #while time\n",
    "    while((iter<maxit) and (np.max(ratio)>thresh)):\n",
    "        iter=iter+1\n",
    "        U_old=U\n",
    "        V_old=V\n",
    "        Dsq_old=Dsq\n",
    "        Impute_old=Impute\n",
    "\n",
    "        #calculate the current loss\n",
    "        loss=0\n",
    "        for time in range(t):\n",
    "            A_t=U_old[time] @ np.sqrt(Dsq_old[time])\n",
    "            B_t=V_old[time] @ np.sqrt(Dsq_old[time])\n",
    "            x_star=Impute_old[time]\n",
    "            resid_mat=x[:,:,time]-x_star\n",
    "            resid_mat[xnas[:,:,time]]=0\n",
    "            loss=loss+np.linalg.norm(resid_mat)+l1*(0 if (penalty=='first' and time>=2) else 1)*np.linalg.norm(A_t)+np.linalg.norm(B_t)+l3*np.linalg.norm(SH[:,:,time]-x_star)\n",
    "            if (l2!=0 and time>=2):\n",
    "                loss=loss+l2*np.linalg.norm(x_star-Impute_old[time-1])\n",
    "\n",
    "        loss_hist.append(loss/2)\n",
    "\n",
    "        #U step for all time points\n",
    "        for time in range(t-1):\n",
    "            fill=xfill[:,:,time]\n",
    "            fill_na=xnas[:,:,time]\n",
    "            u=U[time]\n",
    "            dsq=Dsq[time]\n",
    "            v=V[time]\n",
    "\n",
    "            if(t==1):\n",
    "                ts=0\n",
    "                const=1+l3\n",
    "            elif (time==1):\n",
    "                ts=Impute[time+1]*l2\n",
    "                const=1+l2+l3\n",
    "            elif (time==t):\n",
    "                ts=Impute[time-1]*l2\n",
    "                const=1+l2+l3\n",
    "            else:\n",
    "                ts=(Impute[time+1]+Impute[time-1])*l2\n",
    "                const=1+2*l2+l3\n",
    "\n",
    "            B=u.T @ (fill+ts+l3*SH[:,:,time])\n",
    "            temp1=replicate_r_lazy_mult_right(B,dsq)\n",
    "            temp2=replicate_lazy_r_division(temp1,const*dsq+l1*(0 if (penalty=='first' and time>=2) else 1))\n",
    "            #B=B*dsq/(const*dsq+l1*ifel)\n",
    "            B=temp2\n",
    "            del temp1\n",
    "            del temp2\n",
    "            #sigh\n",
    "            tempu,tempd,tempv=np.linalg.svd(B.T,False)\n",
    "            u=u@tempv.T\n",
    "            dsq=tempd\n",
    "            v=tempu #this notation i swear...\n",
    "            xhat=u@replicate_r_lazy_mult_left(dsq,v.T)\n",
    "            Impute[time]=xhat\n",
    "            fill[fill_na]=xhat[fill_na]\n",
    "            U[time]=u\n",
    "            V[time]=v\n",
    "            Dsq[time]=dsq\n",
    "            xfill[:,:,time]=fill\n",
    "\n",
    "        #V step for all time points\n",
    "        for time in range(t-1):\n",
    "            fill=xfill[:,:,time]\n",
    "            fill_na=xnas[:,:,time]\n",
    "            u=U[time]\n",
    "            dsq=Dsq[time]\n",
    "            v=V[time]\n",
    "\n",
    "            if(t==1):\n",
    "                ts=0\n",
    "                const=1+l3\n",
    "            elif (time==1):\n",
    "                ts=Impute[time+1]*l2\n",
    "                const=1+l2+l3\n",
    "            elif (time==t):\n",
    "                ts=Impute[time-1]*l2\n",
    "                const=1+l2+l3\n",
    "            else:\n",
    "                ts=(Impute[time+1]+Impute[time-1])*l2\n",
    "                const=1+2*l2+l3\n",
    "\n",
    "            A=np.transpose((fill+ts+l3*SH[:,:,time])@v)\n",
    "            #A=((fill+ts+l3*SH[:,:,time])@v).T\n",
    "            temp1=replicate_r_lazy_mult_right(A,dsq)\n",
    "            temp2=replicate_lazy_r_division(temp1,const*dsq+l1*(0 if (penalty=='first' and time>=2) else 1))\n",
    "            tempu,tempd,tempv=np.linalg.svd(A.T,False)\n",
    "            u=tempu\n",
    "            dsq=tempd\n",
    "            v=v@tempv.T\n",
    "            xhat=u@replicate_r_lazy_mult_left(dsq,v.T)\n",
    "            Impute[time]=xhat\n",
    "            fill[fill_na]=xhat[fill_na]\n",
    "            U[time]=u\n",
    "            V[time]=v\n",
    "            Dsq[time]=dsq\n",
    "            xfill[:,:,time]=fill\n",
    "\n",
    "        for time in range(t):\n",
    "            ratio[time]=Frob(U_old[time],Dsq_old[time],V_old[time],U[time],Dsq[time],V[time])\n",
    "\n",
    "        ratio_hist.append(np.max(ratio))\n",
    "\n",
    "    U_final=[]\n",
    "    V_final=[]\n",
    "    Dsq_final=[]\n",
    "    Impute_final=[]\n",
    "    for time in range(t):\n",
    "        u=xfill[:,:,time]@V[time]\n",
    "        tempu,tempd,tempv=np.linalg.svd(u)\n",
    "        u=tempu\n",
    "        dsq=tempd\n",
    "        v=V[time]@tempv.T\n",
    "        dsq=replicate_r_pmax(dsq-l1*(1 if(penalty=='first' and time>=2) else 0),np.zeros(len(dsq))) #soft thresholding\n",
    "        #print(np.sum(dsq>0))\n",
    "        rout=np.min(np.array([np.sum(dsq>0)+1,r]))\n",
    "        U_final.append(u[:,0:rout])\n",
    "        Dsq_final.append(dsq[0:rout])\n",
    "        V_final.append(v[:,0:rout])\n",
    "        Impute_final.append(u[:,0:rout]@(replicate_r_lazy_mult_left(dsq[0:rout],v[:,0:rout].T)))\n",
    "\n",
    "    return U_final,V_final,Dsq_final,Impute_final,iter,ratio,ratio_hist,loss_hist"
   ]
  },
  {
   "cell_type": "code",
   "execution_count": 11,
   "id": "d5baa0cf-62fc-43a1-8263-eb0bad0335ff",
   "metadata": {},
   "outputs": [
    {
     "data": {
      "text/plain": [
       "'143.6MiB'"
      ]
     },
     "execution_count": 11,
     "metadata": {},
     "output_type": "execute_result"
    }
   ],
   "source": [
    "import sys\n",
    "import numpy as np\n",
    "M = 181;\n",
    "N = 361;\n",
    "T = 288;\n",
    "c = 16936387;\n",
    "A = np.random.randn(M,N,T)\n",
    "B=A\n",
    "\n",
    "mask=np.zeros(M*N*T,dtype=bool)\n",
    "mask[:c] = True\n",
    "np.random.shuffle(mask)\n",
    "mask=mask.reshape(M,N,T)\n",
    "A[mask] = np.nan\n",
    "sizeof_fmt(sys.getsizeof(A))"
   ]
  },
  {
   "cell_type": "code",
   "execution_count": 16,
   "id": "4232e85f-fda2-442a-b43e-7fcac53f0554",
   "metadata": {},
   "outputs": [
    {
     "data": {
      "text/plain": [
       "array([False, False, False, ..., False, False, False])"
      ]
     },
     "execution_count": 16,
     "metadata": {},
     "output_type": "execute_result"
    }
   ],
   "source": [
    "A[A<=1e-3]==1e-6"
   ]
  },
  {
   "cell_type": "code",
   "execution_count": 10,
   "id": "1c41d391-1b93-4f2a-b4bb-15d3f2c6418e",
   "metadata": {},
   "outputs": [],
   "source": [
    "def sizeof_fmt(num, suffix=\"B\"):\n",
    "    for unit in (\"\", \"Ki\", \"Mi\", \"Gi\", \"Ti\", \"Pi\", \"Ei\", \"Zi\"):\n",
    "        if abs(num) < 1024.0:\n",
    "            return f\"{num:3.1f}{unit}{suffix}\"\n",
    "        num /= 1024.0\n",
    "    return f\"{num:.1f}Yi{suffix}\""
   ]
  },
  {
   "cell_type": "code",
   "execution_count": 17,
   "id": "1403f0e8-3aa7-4398-9baa-d8b153991c75",
   "metadata": {},
   "outputs": [],
   "source": [
    "U,V,Dsq,Impute,iter,ratio,ratio_hist,loss_hist=VISTA(A,B,l1=1.0,l2=1.0,l3=1.0,r=17,thresh=1e-5,maxit=20,penalty='all')"
   ]
  },
  {
   "cell_type": "code",
   "execution_count": 18,
   "id": "802a0029-4694-4c94-abf9-99d383ac82cf",
   "metadata": {},
   "outputs": [
    {
     "data": {
      "text/plain": [
       "8.173583594404756e-05"
      ]
     },
     "execution_count": 18,
     "metadata": {},
     "output_type": "execute_result"
    }
   ],
   "source": [
    "np.mean(B[:,:,0]-Impute[0])"
   ]
  },
  {
   "cell_type": "code",
   "execution_count": 21,
   "id": "0c812bc1-45b6-4639-8866-3d0bd02523f3",
   "metadata": {},
   "outputs": [
    {
     "data": {
      "text/plain": [
       "(array([  0,   0,   0, ..., 180, 180, 180]),\n",
       " array([  4,   6,   7, ..., 350, 355, 359]))"
      ]
     },
     "execution_count": 21,
     "metadata": {},
     "output_type": "execute_result"
    }
   ],
   "source": [
    "np.where(Impute[0]<=1e-5)"
   ]
  },
  {
   "cell_type": "code",
   "execution_count": 27,
   "id": "a13644ff-40f0-4fae-a8e3-655181b75499",
   "metadata": {},
   "outputs": [
    {
     "data": {
      "text/plain": [
       "32755"
      ]
     },
     "execution_count": 27,
     "metadata": {},
     "output_type": "execute_result"
    }
   ],
   "source": [
    "len(np.where(B[:,:,0]<=1e-5)[0])"
   ]
  },
  {
   "cell_type": "code",
   "execution_count": null,
   "id": "4b73df9b-9d64-4df1-a31a-0755c5e0c5d6",
   "metadata": {},
   "outputs": [],
   "source": [
    "#main function\n",
    "A=data_with_nans\n",
    "B=SH_data\n",
    "U,V,Dsq,Impute,iter,ratio,ratio_hist,loss_hist=VISTA(A,B,l1=1.0,l2=1.0,l3=1.0,r=17,thresh=1e-5,maxit=20,penalty='all')"
   ]
  },
  {
   "cell_type": "code",
   "execution_count": 6,
   "id": "558b7a1d-e330-4ac4-bbd2-86133f6b9aa3",
   "metadata": {},
   "outputs": [],
   "source": [
    "import numpy as np"
   ]
  },
  {
   "cell_type": "code",
   "execution_count": 7,
   "id": "a5bdb15d-6196-4cb1-a74e-d57add68b46e",
   "metadata": {},
   "outputs": [],
   "source": [
    "tec=np.array([[1,2,np.nan],[4,5,6]])\n",
    "SH=np.array([[1,2,3],[4,5,6]])"
   ]
  },
  {
   "cell_type": "code",
   "execution_count": 8,
   "id": "dea63c0d-7afe-486c-9162-8669b5f9110c",
   "metadata": {},
   "outputs": [
    {
     "data": {
      "text/plain": [
       "(array([[-1.62976063, -0.6406754 ,         nan],\n",
       "        [ 0.41939991,  0.77660256,  1.07443357]]),\n",
       " array([[-1.62976063, -0.6406754 , -0.02950738],\n",
       "        [ 0.41939991,  0.77660256,  1.07443357]]))"
      ]
     },
     "execution_count": 8,
     "metadata": {},
     "output_type": "execute_result"
    }
   ],
   "source": [
    "normalize_data(tec,SH)"
   ]
  },
  {
   "cell_type": "code",
   "execution_count": null,
   "id": "f9bdfc15-b0a0-4775-8d2b-d4d439186454",
   "metadata": {},
   "outputs": [],
   "source": []
  }
 ],
 "metadata": {
  "kernelspec": {
   "display_name": "Python 3 (ipykernel)",
   "language": "python",
   "name": "python3"
  },
  "language_info": {
   "codemirror_mode": {
    "name": "ipython",
    "version": 3
   },
   "file_extension": ".py",
   "mimetype": "text/x-python",
   "name": "python",
   "nbconvert_exporter": "python",
   "pygments_lexer": "ipython3",
   "version": "3.11.4"
  }
 },
 "nbformat": 4,
 "nbformat_minor": 5
}
